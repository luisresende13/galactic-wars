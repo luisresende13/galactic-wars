{
 "cells": [
  {
   "cell_type": "markdown",
   "id": "140a21e2-5e70-48c5-8c60-e7b4058d4b38",
   "metadata": {},
   "source": [
    "### Installing `ffmpeg` on Windows:\n",
    "\n",
    "1. **Download `ffmpeg`:**\n",
    "   - Go to the [ffmpeg download page](https://ffmpeg.org/download.html).\n",
    "   - Under \"Get packages & executable files,\" click on the Windows icon.\n",
    "   - Download the build from one of the listed providers (e.g., [ffmpeg.zeranoe.com](https://ffmpeg.zeranoe.com/builds/) or [gyan.dev](https://www.gyan.dev/ffmpeg/builds/)). For simplicity, you can use [gyan.dev](https://www.gyan.dev/ffmpeg/builds/):\n",
    "     - Go to [ffmpeg-git-full.7z](https://www.gyan.dev/ffmpeg/builds/ffmpeg-git-full.7z) and download the file.\n",
    "\n",
    "2. **Extract `ffmpeg`:**\n",
    "   - Extract the downloaded `7z` file using a tool like [7-Zip](https://www.7-zip.org/).\n",
    "   - Move the extracted folder to a location of your choice, such as `C:\\ffmpeg`.\n",
    "\n",
    "3. **Add `ffmpeg` to the system PATH:**\n",
    "   - Open the Start Menu and search for \"Environment Variables\".\n",
    "   - Click on \"Edit the system environment variables\".\n",
    "   - In the System Properties window, click on the \"Environment Variables\" button.\n",
    "   - In the Environment Variables window, find the \"Path\" variable in the \"System variables\" section, and click \"Edit\".\n",
    "   - Click \"New\" and add the path to the `bin` directory, e.g., `C:\\ffmpeg\\bin`.\n",
    "   - Click OK on all windows to save the changes.\n",
    "\n",
    "4. **Verify Installation:**\n",
    "   - Open Command Prompt (CMD) and type `ffmpeg` to verify that it is installed correctly and accessible from any directory."
   ]
  },
  {
   "cell_type": "markdown",
   "id": "ade62397-0ccf-4ca9-b3c1-f32e5fb5e356",
   "metadata": {},
   "source": [
    "### Download Audio File from Youtube"
   ]
  },
  {
   "cell_type": "code",
   "execution_count": 5,
   "id": "1a7191af-9b31-4b7c-a4be-8425721761a7",
   "metadata": {},
   "outputs": [
    {
     "name": "stdout",
     "output_type": "stream",
     "text": [
      "[youtube] Extracting URL: https://www.youtube.com/watch?v=MUp0ykNMc8c\n",
      "[youtube] MUp0ykNMc8c: Downloading webpage\n",
      "[youtube] MUp0ykNMc8c: Downloading ios player API JSON\n",
      "[youtube] MUp0ykNMc8c: Downloading m3u8 information\n",
      "[info] MUp0ykNMc8c: Downloading 1 format(s): 251\n",
      "[download] Destination: ..\\audio\\raw\\Mercutura.webm\n",
      "[download] 100% of    3.05MiB in 00:00:00 at 8.17MiB/s     \n",
      "[ExtractAudio] Destination: ..\\audio\\raw\\Mercutura.mp3\n",
      "Deleting original file ..\\audio\\raw\\Mercutura.webm (pass -k to keep)\n",
      "Downloaded audio to ../audio/raw\n"
     ]
    }
   ],
   "source": [
    "import yt_dlp\n",
    "\n",
    "def download_audio_from_youtube(url, output_path='.'):\n",
    "    ydl_opts = {\n",
    "        'format': 'bestaudio/best',\n",
    "        'outtmpl': f'{output_path}/%(title)s.%(ext)s',\n",
    "        'postprocessors': [{\n",
    "            'key': 'FFmpegExtractAudio',\n",
    "            'preferredcodec': 'mp3',\n",
    "            'preferredquality': '192',\n",
    "        }],\n",
    "    }\n",
    "\n",
    "    with yt_dlp.YoutubeDL(ydl_opts) as ydl:\n",
    "        ydl.download([url])\n",
    "\n",
    "    print(f\"Downloaded audio to {output_path}\")\n",
    "\n",
    "# Example usage\n",
    "# video_url = 'https://www.youtube.com/watch?v=rUqdOi9hszQ'\n",
    "video_url = 'https://www.youtube.com/watch?v=MUp0ykNMc8c'\n",
    "download_audio_from_youtube(video_url, output_path='../audio/raw')\n"
   ]
  },
  {
   "cell_type": "markdown",
   "id": "d7dc094e-0fe4-46fa-b584-d0b3e96b94f2",
   "metadata": {},
   "source": [
    "### Cut Audio File"
   ]
  },
  {
   "cell_type": "code",
   "execution_count": 4,
   "id": "1bd90958-9923-4f61-b25d-41fe6ff9b0ec",
   "metadata": {},
   "outputs": [],
   "source": [
    "from pydub import AudioSegment\n",
    "\n",
    "def cut_audio(input_file, output_file, start_time, end_time):\n",
    "    \"\"\"\n",
    "    Cuts an audio file from start_time to end_time and saves the result to output_file.\n",
    "\n",
    "    :param input_file: Path to the input audio file\n",
    "    :param output_file: Path to save the output audio file\n",
    "    :param start_time: Start time in milliseconds\n",
    "    :param end_time: End time in milliseconds\n",
    "    \"\"\"\n",
    "    # Load the audio file\n",
    "    audio = AudioSegment.from_file(input_file)\n",
    "    \n",
    "    # Cut the audio file\n",
    "    cut_audio = audio[start_time:end_time]\n",
    "    \n",
    "    # Save the result\n",
    "    cut_audio.export(output_file, format=\"mp3\")\n",
    "\n",
    "# Example usage\n",
    "input_file = \"../audio/raw/Raptus.mp3\"\n",
    "output_file = \"../audio/action.mp3\"\n",
    "start_time = (1 * 60 + 45) * 1000  # Start at 10 seconds (10000 milliseconds)\n",
    "end_time = (2 * 60) * 1000    # End at 30 seconds (30000 milliseconds)\n",
    "\n",
    "cut_audio(input_file, output_file, start_time, end_time)\n"
   ]
  },
  {
   "cell_type": "code",
   "execution_count": 6,
   "id": "76360841-b099-4b7e-8d42-da37e9a11da4",
   "metadata": {},
   "outputs": [
    {
     "name": "stdout",
     "output_type": "stream",
     "text": [
      "C:\\Users\\luisr\\Repositories\\Code Projects\\Galactic Wars\n"
     ]
    }
   ],
   "source": [
    "cd ../"
   ]
  },
  {
   "cell_type": "code",
   "execution_count": 7,
   "id": "41c151a9-2c58-44df-b15a-e9a2e52fbf75",
   "metadata": {},
   "outputs": [
    {
     "name": "stdout",
     "output_type": "stream",
     "text": [
      "pygame 2.5.2 (SDL 2.28.3, Python 3.11.7)\n",
      "Hello from the pygame community. https://www.pygame.org/contribute.html\n"
     ]
    }
   ],
   "source": [
    "from PPlay.sound import Sound\n",
    "\n",
    "sound_action = Sound('audio/action.mp3')\n"
   ]
  },
  {
   "cell_type": "code",
   "execution_count": 9,
   "id": "41863886-2b81-4f7e-86fb-adc7a5db592d",
   "metadata": {},
   "outputs": [],
   "source": [
    "sound_action.loop = False\n",
    "sound_action.play()\n"
   ]
  },
  {
   "cell_type": "code",
   "execution_count": 10,
   "id": "8c931c93-8157-4943-8c58-02e3b610b1d6",
   "metadata": {},
   "outputs": [],
   "source": [
    "sound_action.stop()"
   ]
  }
 ],
 "metadata": {
  "kernelspec": {
   "display_name": "Python 3 (ipykernel)",
   "language": "python",
   "name": "python3"
  },
  "language_info": {
   "codemirror_mode": {
    "name": "ipython",
    "version": 3
   },
   "file_extension": ".py",
   "mimetype": "text/x-python",
   "name": "python",
   "nbconvert_exporter": "python",
   "pygments_lexer": "ipython3",
   "version": "3.11.7"
  }
 },
 "nbformat": 4,
 "nbformat_minor": 5
}
