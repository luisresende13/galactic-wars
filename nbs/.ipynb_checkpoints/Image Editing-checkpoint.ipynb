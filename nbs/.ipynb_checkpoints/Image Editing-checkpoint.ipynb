{
 "cells": [
  {
   "cell_type": "code",
   "execution_count": 1,
   "id": "c1e1234d-8aa3-4f2c-9064-019970d8f62f",
   "metadata": {},
   "outputs": [
    {
     "ename": "FileNotFoundError",
     "evalue": "[Errno 2] No such file or directory: 'C:\\\\Users\\\\luisr\\\\Repositories\\\\Code Projects\\\\Galactic Wars\\\\imgs\\\\player\\\\player-0.png'",
     "output_type": "error",
     "traceback": [
      "\u001b[1;31m---------------------------------------------------------------------------\u001b[0m",
      "\u001b[1;31mFileNotFoundError\u001b[0m                         Traceback (most recent call last)",
      "Cell \u001b[1;32mIn[1], line 24\u001b[0m\n\u001b[0;32m     21\u001b[0m     new_image\u001b[38;5;241m.\u001b[39msave(output_path)\n\u001b[0;32m     23\u001b[0m \u001b[38;5;66;03m# Example usage\u001b[39;00m\n\u001b[1;32m---> 24\u001b[0m increase_image_size_with_padding(\u001b[38;5;124m\"\u001b[39m\u001b[38;5;124m../imgs/player/player-0.png\u001b[39m\u001b[38;5;124m\"\u001b[39m, \u001b[38;5;124m\"\u001b[39m\u001b[38;5;124m../imgs/player/player-0-test.png\u001b[39m\u001b[38;5;124m\"\u001b[39m, \u001b[38;5;241m128\u001b[39m, \u001b[38;5;241m128\u001b[39m)\n",
      "Cell \u001b[1;32mIn[1], line 5\u001b[0m, in \u001b[0;36mincrease_image_size_with_padding\u001b[1;34m(image_path, output_path, new_width, new_height)\u001b[0m\n\u001b[0;32m      3\u001b[0m \u001b[38;5;28;01mdef\u001b[39;00m \u001b[38;5;21mincrease_image_size_with_padding\u001b[39m(image_path, output_path, new_width, new_height):\n\u001b[0;32m      4\u001b[0m     \u001b[38;5;66;03m# Open the original image\u001b[39;00m\n\u001b[1;32m----> 5\u001b[0m     original_image \u001b[38;5;241m=\u001b[39m Image\u001b[38;5;241m.\u001b[39mopen(image_path)\u001b[38;5;241m.\u001b[39mconvert(\u001b[38;5;124m\"\u001b[39m\u001b[38;5;124mRGBA\u001b[39m\u001b[38;5;124m\"\u001b[39m)\n\u001b[0;32m      7\u001b[0m     \u001b[38;5;66;03m# Get the dimensions of the original image\u001b[39;00m\n\u001b[0;32m      8\u001b[0m     original_width, original_height \u001b[38;5;241m=\u001b[39m original_image\u001b[38;5;241m.\u001b[39msize\n",
      "File \u001b[1;32m~\\anaconda3\\Lib\\site-packages\\PIL\\Image.py:3277\u001b[0m, in \u001b[0;36mopen\u001b[1;34m(fp, mode, formats)\u001b[0m\n\u001b[0;32m   3274\u001b[0m     filename \u001b[38;5;241m=\u001b[39m os\u001b[38;5;241m.\u001b[39mpath\u001b[38;5;241m.\u001b[39mrealpath(os\u001b[38;5;241m.\u001b[39mfspath(fp))\n\u001b[0;32m   3276\u001b[0m \u001b[38;5;28;01mif\u001b[39;00m filename:\n\u001b[1;32m-> 3277\u001b[0m     fp \u001b[38;5;241m=\u001b[39m builtins\u001b[38;5;241m.\u001b[39mopen(filename, \u001b[38;5;124m\"\u001b[39m\u001b[38;5;124mrb\u001b[39m\u001b[38;5;124m\"\u001b[39m)\n\u001b[0;32m   3278\u001b[0m     exclusive_fp \u001b[38;5;241m=\u001b[39m \u001b[38;5;28;01mTrue\u001b[39;00m\n\u001b[0;32m   3280\u001b[0m \u001b[38;5;28;01mtry\u001b[39;00m:\n",
      "\u001b[1;31mFileNotFoundError\u001b[0m: [Errno 2] No such file or directory: 'C:\\\\Users\\\\luisr\\\\Repositories\\\\Code Projects\\\\Galactic Wars\\\\imgs\\\\player\\\\player-0.png'"
     ]
    }
   ],
   "source": [
    "from PIL import Image\n",
    "\n",
    "def increase_image_size_with_padding(image_path, output_path, new_width, new_height):\n",
    "    # Open the original image\n",
    "    original_image = Image.open(image_path).convert(\"RGBA\")\n",
    "\n",
    "    # Get the dimensions of the original image\n",
    "    original_width, original_height = original_image.size\n",
    "\n",
    "    # Create a new image with the desired dimensions and a transparent background\n",
    "    new_image = Image.new(\"RGBA\", (new_width, new_height), (0, 0, 0, 0))\n",
    "\n",
    "    # Calculate the position to paste the original image onto the new image to center it\n",
    "    paste_x = (new_width - original_width) // 2\n",
    "    paste_y = (new_height - original_height) // 2\n",
    "\n",
    "    # Paste the original image onto the new image at the calculated position\n",
    "    new_image.paste(original_image, (paste_x, paste_y), original_image)\n",
    "\n",
    "    # Save the new image\n",
    "    new_image.save(output_path)\n",
    "\n",
    "# Example usage\n",
    "increase_image_size_with_padding(\"../imgs/ships/player/player-0.png\", \"../imgs/ships/player/player-0-test.png\", 128, 128)\n"
   ]
  }
 ],
 "metadata": {
  "kernelspec": {
   "display_name": "Python 3 (ipykernel)",
   "language": "python",
   "name": "python3"
  },
  "language_info": {
   "codemirror_mode": {
    "name": "ipython",
    "version": 3
   },
   "file_extension": ".py",
   "mimetype": "text/x-python",
   "name": "python",
   "nbconvert_exporter": "python",
   "pygments_lexer": "ipython3",
   "version": "3.11.7"
  }
 },
 "nbformat": 4,
 "nbformat_minor": 5
}
