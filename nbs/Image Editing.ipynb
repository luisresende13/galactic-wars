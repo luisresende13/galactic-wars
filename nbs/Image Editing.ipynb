{
 "cells": [
  {
   "cell_type": "code",
   "execution_count": 10,
   "id": "c1e1234d-8aa3-4f2c-9064-019970d8f62f",
   "metadata": {},
   "outputs": [],
   "source": [
    "from PIL import Image\n",
    "\n",
    "def increase_image_size_with_padding(image_path, output_path, new_width, new_height):\n",
    "    # Open the original image\n",
    "    original_image = Image.open(image_path).convert(\"RGBA\")\n",
    "\n",
    "    # Get the dimensions of the original image\n",
    "    original_width, original_height = original_image.size\n",
    "\n",
    "    # Create a new image with the desired dimensions and a transparent background\n",
    "    new_image = Image.new(\"RGBA\", (new_width, new_height), (0, 0, 0, 0))\n",
    "\n",
    "    # Calculate the position to paste the original image onto the new image to center it\n",
    "    paste_x = (new_width - original_width) // 2\n",
    "    paste_y = (new_height - original_height) // 2\n",
    "\n",
    "    # Paste the original image onto the new image at the calculated position\n",
    "    new_image.paste(original_image, (paste_x, paste_y), original_image)\n",
    "\n",
    "    # Save the new image\n",
    "    new_image.save(output_path)\n",
    "\n",
    "# Example usage\n",
    "increase_image_size_with_padding(\"../imgs/ships/player/player-9.png\", \"../imgs/ships/player/player-270.png\", 91, 91)\n"
   ]
  },
  {
   "cell_type": "code",
   "execution_count": null,
   "id": "1765e041-58e2-4e2d-ba95-25895d7018e3",
   "metadata": {},
   "outputs": [],
   "source": []
  }
 ],
 "metadata": {
  "kernelspec": {
   "display_name": "Python 3 (ipykernel)",
   "language": "python",
   "name": "python3"
  },
  "language_info": {
   "codemirror_mode": {
    "name": "ipython",
    "version": 3
   },
   "file_extension": ".py",
   "mimetype": "text/x-python",
   "name": "python",
   "nbconvert_exporter": "python",
   "pygments_lexer": "ipython3",
   "version": "3.11.7"
  }
 },
 "nbformat": 4,
 "nbformat_minor": 5
}
