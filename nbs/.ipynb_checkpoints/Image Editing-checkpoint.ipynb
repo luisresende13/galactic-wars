{
 "cells": [
  {
   "cell_type": "markdown",
   "id": "f615b969-1530-42c0-8e59-534a27d2bddb",
   "metadata": {},
   "source": [
    "#### Add transparent padding to png image"
   ]
  },
  {
   "cell_type": "code",
   "execution_count": 10,
   "id": "c1e1234d-8aa3-4f2c-9064-019970d8f62f",
   "metadata": {},
   "outputs": [],
   "source": [
    "from PIL import Image\n",
    "\n",
    "def increase_image_size_with_padding(image_path, output_path, new_width, new_height):\n",
    "    # Open the original image\n",
    "    original_image = Image.open(image_path).convert(\"RGBA\")\n",
    "\n",
    "    # Get the dimensions of the original image\n",
    "    original_width, original_height = original_image.size\n",
    "\n",
    "    # Create a new image with the desired dimensions and a transparent background\n",
    "    new_image = Image.new(\"RGBA\", (new_width, new_height), (0, 0, 0, 0))\n",
    "\n",
    "    # Calculate the position to paste the original image onto the new image to center it\n",
    "    paste_x = (new_width - original_width) // 2\n",
    "    paste_y = (new_height - original_height) // 2\n",
    "\n",
    "    # Paste the original image onto the new image at the calculated position\n",
    "    new_image.paste(original_image, (paste_x, paste_y), original_image)\n",
    "\n",
    "    # Save the new image\n",
    "    new_image.save(output_path)\n",
    "\n",
    "# Example usage\n",
    "# increase_image_size_with_padding(\"../imgs/ships/player/player-9.png\", \"../imgs/ships/player/player-270.png\", 91, 91)\n",
    "increase_image_size_with_padding(\"../imgs/ships/player/final/player-mask-sm.png\", \"../imgs/ships/player/final/player-mask-sm.png\", 91, 91)\n"
   ]
  },
  {
   "cell_type": "markdown",
   "id": "a1422080-ffe7-4689-8159-244d33380373",
   "metadata": {},
   "source": [
    "#### Rotate image"
   ]
  },
  {
   "cell_type": "code",
   "execution_count": 3,
   "id": "02c7af3c-9ad4-462c-a8b7-60a5e55f9c77",
   "metadata": {},
   "outputs": [],
   "source": [
    "from PIL import Image\n",
    "import math\n",
    "\n",
    "def rotate_image_keep_size(image_path, angles):\n",
    "    \"\"\"\n",
    "    Rotates an image by specified angles while keeping the original size and proportions.\n",
    "    \n",
    "    Args:\n",
    "        image_path (str): The path to the PNG image.\n",
    "        angles (list): A list of angles to rotate the image.\n",
    "        \n",
    "    Returns:\n",
    "        list: A list of Image objects rotated by the specified angles.\n",
    "    \"\"\"\n",
    "    # Open the image\n",
    "    original_image = Image.open(image_path)\n",
    "    width, height = original_image.size\n",
    "    center = (width / 2, height / 2)\n",
    "    \n",
    "    # List to hold the rotated images\n",
    "    rotated_images = []\n",
    "\n",
    "    for angle in angles:\n",
    "        # Rotate clockwise\n",
    "        angle = 360 - angle\n",
    "        \n",
    "        # Create an empty image with the same size and transparent background\n",
    "        rotated_image = Image.new(\"RGBA\", original_image.size, (255, 255, 255, 0))\n",
    "        rotated_original = original_image.rotate(angle, resample=Image.BICUBIC)\n",
    "        \n",
    "        # Calculate the bounding box to crop the rotated image to the original size\n",
    "        bbox = rotated_original.getbbox()\n",
    "        offset_x = (bbox[2] - bbox[0] - width) / 2\n",
    "        offset_y = (bbox[3] - bbox[1] - height) / 2\n",
    "        rotated_cropped = rotated_original.crop((bbox[0] + offset_x, bbox[1] + offset_y, bbox[2] - offset_x, bbox[3] - offset_y))\n",
    "        \n",
    "        # Paste the cropped image into the new image to maintain size\n",
    "        rotated_image.paste(rotated_cropped, (0, 0))\n",
    "        \n",
    "        # Append to the list of rotated images\n",
    "        rotated_images.append(rotated_image)\n",
    "\n",
    "    return rotated_images\n",
    "\n",
    "# Example usage\n",
    "image_path = '../imgs/ships/player/final/player-mask-nn.png'\n",
    "angles = list(range(0, 360, 45))\n",
    "\n",
    "rotated_images = rotate_image_keep_size(image_path, angles)\n",
    "\n",
    "for idx, img in enumerate(rotated_images):\n",
    "    # img.show()  # This will display the rotated image\n",
    "    img.save(f'../imgs/ships/player/final/rotation/{angles[idx]}.png')  # This will save the rotated image\n"
   ]
  },
  {
   "cell_type": "markdown",
   "id": "4bdd3a43-5e78-4332-88bd-7654a4a2a0c7",
   "metadata": {},
   "source": [
    "#### Resize images in folder"
   ]
  },
  {
   "cell_type": "code",
   "execution_count": 18,
   "id": "94ad2d71-803c-4086-b54b-94fb09fb1a06",
   "metadata": {},
   "outputs": [
    {
     "data": {
      "text/plain": [
       "128.0"
      ]
     },
     "execution_count": 18,
     "metadata": {},
     "output_type": "execute_result"
    }
   ],
   "source": [
    "256/2"
   ]
  },
  {
   "cell_type": "code",
   "execution_count": 14,
   "id": "6cd47e8f-928e-471f-b0b0-64294c55e2ae",
   "metadata": {},
   "outputs": [
    {
     "name": "stdout",
     "output_type": "stream",
     "text": [
      "Images resized and saved with transparency preserved.\n"
     ]
    }
   ],
   "source": [
    "import os\n",
    "import cv2\n",
    "\n",
    "folder_path = '../imgs/effects/explosions/0'\n",
    "to_folder_path = '../imgs/effects/explosions/0-24px'\n",
    "shape = (160, 160)\n",
    "ext = '.png'\n",
    "\n",
    "if not os.path.exists(to_folder_path):\n",
    "    os.makedirs(to_folder_path)\n",
    "\n",
    "file_names = [name for name in os.listdir(folder_path) if name.endswith(ext)]\n",
    "\n",
    "for name in file_names:\n",
    "    path = f'{folder_path}/{name}'\n",
    "    to_path = f'{to_folder_path}/{name}'\n",
    "\n",
    "    # Read the image with alpha channel\n",
    "    img = cv2.imread(path, cv2.IMREAD_UNCHANGED)\n",
    "\n",
    "    if type(shape) is int:\n",
    "        min_value = min(img.shape[:2])\n",
    "        max_value = max(img.shape[:2])\n",
    "        min_index = img.shape.index()\n",
    "        max_index = img.shape.index(max(img.shape[:2]))\n",
    "        new_max_value = shape\n",
    "        shape = [None, None]\n",
    "        shape[max_index] = new_max_value\n",
    "        shape[min_index] = int(min_value * new_max_value / max_value)\n",
    "\n",
    "    img_resized = cv2.resize(img, tuple(shape[:2]))\n",
    "    cv2.imwrite(to_path, img_resized)\n",
    "\n",
    "print(\"Images resized and saved with transparency preserved.\")\n"
   ]
  }
 ],
 "metadata": {
  "kernelspec": {
   "display_name": "Python 3 (ipykernel)",
   "language": "python",
   "name": "python3"
  },
  "language_info": {
   "codemirror_mode": {
    "name": "ipython",
    "version": 3
   },
   "file_extension": ".py",
   "mimetype": "text/x-python",
   "name": "python",
   "nbconvert_exporter": "python",
   "pygments_lexer": "ipython3",
   "version": "3.11.7"
  }
 },
 "nbformat": 4,
 "nbformat_minor": 5
}
